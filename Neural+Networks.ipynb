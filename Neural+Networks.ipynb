{
 "cells": [
  {
   "cell_type": "code",
   "execution_count": 21,
   "metadata": {
    "collapsed": true
   },
   "outputs": [],
   "source": [
    "#the following code is taken from Tariq Rashid's site for studying purpose\n",
    "\n",
    "import numpy\n",
    "#scipy.spcial for the sigmoid function expit()\n",
    "import scipy.special\n",
    "\n",
    "\n",
    "#neural network class definition\n",
    "class neuralNetwork:\n",
    "    \n",
    "    #initialize the neural network\n",
    "    def __init__(self,inputnodes, hiddennodes, outputnodes, learningrate):\n",
    "        #set number of nodes in each input, hidden and output layer\n",
    "        self.inodes=inputnodes\n",
    "        self.hnodes=hiddennodes\n",
    "        self.onodes=outputnodes\n",
    "        \n",
    "        #learning rate\n",
    "        self.lr=learningrate\n",
    "        \n",
    "        #initialize weights\n",
    "        #pow riases a number to the power of second one\n",
    "        #numpy.random.normal generates random numbers along spcific mean and standard deviation\n",
    "        #in the shap of matrix spicified dimensions\n",
    "        self.wih=numpy.random.normal(0.0, pow(self.hnodes,-0.5),(self.hnodes,self.inodes))\n",
    "        self.who=numpy.random.normal(0.0,pow(self.onodes,-0.5),(self.onodes,self.hnodes))\n",
    "        \n",
    "        #set the activation function to sigmoid function\n",
    "        self.activation_function=lambda x: scipy.special.expit(x)\n",
    "        pass\n",
    "    \n",
    "    \n",
    "    #train the neural network\n",
    "    def train(self, inputs_list,targets_list):\n",
    "        \n",
    "        #convert inputs list to 2d array\n",
    "        inputs=numpy.array(inputs_list,ndmin=2).T\n",
    "        targets=numpy.array(targets_list,ndmin=2).T\n",
    "        \n",
    "        #calculate signals into hidden layer\n",
    "        hidden_inputs=numpy.dot(self.wih,inputs)\n",
    "        \n",
    "        #calculate the signals emerging from hidden layer\n",
    "        hidden_outputs=self.activation_function(hidden_inputs)\n",
    "        \n",
    "        #calculate the signals entering the final output layer\n",
    "        final_inputs=numpy.do(self.who, hidden_outputs)\n",
    "        \n",
    "        #calculate the output signals\n",
    "        final_outputs=self.activation_function(final_inputs)\n",
    "        \n",
    "        #error is the (target - actual)\n",
    "        output_errors=targets-final_outputs\n",
    "\n",
    "        # hidden layer error is the output_errors, split by weights, recombined\n",
    "        # at hidden nodes\n",
    "        hidden_errors=numpy.dot(self.who.T, output_errors)\n",
    "        \n",
    "        #update the weights for the links between the hidden and output layers\n",
    "        self.who+=self.lr*numpy.dot((output_errors*final_outputs*(1.0-final_outputs))\n",
    "                                    ,numpy.transpose(hidden_outputs))\n",
    "        \n",
    "        #update the weights for the links between the input and hidden layers\n",
    "        self.wih+=self.lr*numpy.dot((hidden_errors*hidden_outputs*(1.0-hidden_outputs))\n",
    "                                   ,numpy.transpose(inputs))\n",
    "        \n",
    "        \n",
    "        pass\n",
    "    \n",
    "    \n",
    "    #query the nerual network\n",
    "    def query(self,inputs_list):\n",
    "        #convert inputs list to 2d array\n",
    "        inputs=numpy.array(inputs_list,ndmin=2).T\n",
    "        \n",
    "        #calculate singals into hidden layer\n",
    "        hidden_inputs=numpy.dot(self.wih,inputs)\n",
    "        \n",
    "        #caculate the singals emerging from hidden layer\n",
    "        hidden_outputs=self.activation_function(hidden_inputs)\n",
    "        \n",
    "        #calculate signals into final output layer\n",
    "        final_inputs=numpy.dot(self.who,hidden_outputs)\n",
    "        \n",
    "        #calculate the signals emerging from final output layer\n",
    "        final_outputs=self.activation_function(final_inputs)\n",
    "        \n",
    "        return final_outputs\n",
    "        \n",
    "        pass\n"
   ]
  },
  {
   "cell_type": "code",
   "execution_count": 22,
   "metadata": {
    "collapsed": true
   },
   "outputs": [],
   "source": [
    "i=3\n",
    "h=3\n",
    "o=3\n",
    "l=.3\n",
    "n=neuralNetwork(i,h,o,l)\n",
    "\n",
    "\n"
   ]
  },
  {
   "cell_type": "code",
   "execution_count": 23,
   "metadata": {
    "collapsed": false
   },
   "outputs": [
    {
     "data": {
      "text/plain": [
       "array([[ 0.37096735],\n",
       "       [ 0.63072594],\n",
       "       [ 0.57028305]])"
      ]
     },
     "execution_count": 23,
     "metadata": {},
     "output_type": "execute_result"
    }
   ],
   "source": [
    "n.query([1.0,0.5,-1.5])\n"
   ]
  },
  {
   "cell_type": "code",
   "execution_count": 24,
   "metadata": {
    "collapsed": false
   },
   "outputs": [
    {
     "data": {
      "text/plain": [
       "3"
      ]
     },
     "execution_count": 24,
     "metadata": {},
     "output_type": "execute_result"
    }
   ],
   "source": [
    "n.inodes\n"
   ]
  },
  {
   "cell_type": "code",
   "execution_count": null,
   "metadata": {
    "collapsed": true
   },
   "outputs": [],
   "source": []
  }
 ],
 "metadata": {
  "anaconda-cloud": {},
  "kernelspec": {
   "display_name": "Python [conda env:Python2]",
   "language": "python",
   "name": "conda-env-Python2-py"
  },
  "language_info": {
   "codemirror_mode": {
    "name": "ipython",
    "version": 2
   },
   "file_extension": ".py",
   "mimetype": "text/x-python",
   "name": "python",
   "nbconvert_exporter": "python",
   "pygments_lexer": "ipython2",
   "version": "2.7.12"
  }
 },
 "nbformat": 4,
 "nbformat_minor": 1
}
